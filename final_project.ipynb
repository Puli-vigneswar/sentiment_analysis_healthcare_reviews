{
  "cells": [
    {
      "cell_type": "markdown",
      "metadata": {
        "id": "view-in-github",
        "colab_type": "text"
      },
      "source": [
        "<a href=\"https://colab.research.google.com/github/Puli-vigneswar/sentiment_analysis_healthcare_reviews/blob/main/final_project.ipynb\" target=\"_parent\"><img src=\"https://colab.research.google.com/assets/colab-badge.svg\" alt=\"Open In Colab\"/></a>"
      ]
    },
    {
      "cell_type": "markdown",
      "source": [
        "# HEALTH CARE FEEDBACKS SENTIMENT ANALYSIS"
      ],
      "metadata": {
        "id": "uR9Aswk-xcZ6"
      }
    },
    {
      "cell_type": "markdown",
      "metadata": {
        "id": "kbn2U5RUwUqc"
      },
      "source": [
        "## Importing all the required packages"
      ]
    },
    {
      "cell_type": "code",
      "execution_count": null,
      "metadata": {
        "id": "U-4sR6mHwUqe"
      },
      "outputs": [],
      "source": [
        "import pandas as pd\n",
        "import numpy as np\n",
        "import matplotlib.pyplot as plt\n",
        "import nltk\n",
        "from nltk.corpus import stopwords\n",
        "import re\n",
        "from nltk.stem import PorterStemmer\n",
        "from nltk.stem import WordNetLemmatizer\n",
        "from sklearn.feature_extraction.text import TfidfVectorizer\n",
        "from sklearn.preprocessing import OneHotEncoder,StandardScaler\n",
        "from sklearn.tree import DecisionTreeRegressor\n",
        "from sklearn.linear_model import LinearRegression\n",
        "from sklearn.model_selection import train_test_split\n",
        "from sklearn.metrics import accuracy_score,r2_score,f1_score,mean_squared_error,confusion_matrix\n",
        "from sklearn.linear_model import LogisticRegression\n",
        "from sklearn.neighbors import KNeighborsRegressor\n",
        "from sklearn.svm import SVR\n",
        "import matplotlib.pyplot as plt\n",
        "import pickle"
      ]
    },
    {
      "cell_type": "markdown",
      "metadata": {
        "id": "-t7Pb-BxwUqg"
      },
      "source": [
        "Reading the csv file"
      ]
    },
    {
      "cell_type": "code",
      "execution_count": null,
      "metadata": {
        "id": "p2KnjXPwwUqg"
      },
      "outputs": [],
      "source": [
        "\n",
        "df=pd.read_csv(\"D:/Final_project/healthcare_reviews.csv\")\n"
      ]
    },
    {
      "cell_type": "code",
      "execution_count": null,
      "metadata": {
        "id": "DQLyP4i_wUqg",
        "outputId": "3fcb1f73-577b-4ec6-f266-06905bf3cca0"
      },
      "outputs": [
        {
          "data": {
            "text/plain": [
              "Index(['Review_Text'], dtype='object')"
            ]
          },
          "execution_count": 84,
          "metadata": {},
          "output_type": "execute_result"
        }
      ],
      "source": [
        "df.drop(columns='Rating',axis=1,inplace=True)\n",
        "df.columns"
      ]
    },
    {
      "cell_type": "code",
      "execution_count": null,
      "metadata": {
        "id": "aeCMcZ59wUqh"
      },
      "outputs": [],
      "source": [
        "df[\"Review_Text\"]=df[\"Review_Text\"].astype(str)"
      ]
    },
    {
      "cell_type": "code",
      "execution_count": null,
      "metadata": {
        "id": "5jZ4upFHwUqh",
        "outputId": "d2c0fdb8-646b-40d4-a669-55201bbf0e48"
      },
      "outputs": [
        {
          "data": {
            "text/html": [
              "<div>\n",
              "<style scoped>\n",
              "    .dataframe tbody tr th:only-of-type {\n",
              "        vertical-align: middle;\n",
              "    }\n",
              "\n",
              "    .dataframe tbody tr th {\n",
              "        vertical-align: top;\n",
              "    }\n",
              "\n",
              "    .dataframe thead th {\n",
              "        text-align: right;\n",
              "    }\n",
              "</style>\n",
              "<table border=\"1\" class=\"dataframe\">\n",
              "  <thead>\n",
              "    <tr style=\"text-align: right;\">\n",
              "      <th></th>\n",
              "      <th>Review_Text</th>\n",
              "    </tr>\n",
              "  </thead>\n",
              "  <tbody>\n",
              "    <tr>\n",
              "      <th>0</th>\n",
              "      <td>I have mixed feelings about my experience.</td>\n",
              "    </tr>\n",
              "    <tr>\n",
              "      <th>1</th>\n",
              "      <td>The staff was caring and attentive. I couldn't...</td>\n",
              "    </tr>\n",
              "    <tr>\n",
              "      <th>2</th>\n",
              "      <td>I have mixed feelings about my experience.</td>\n",
              "    </tr>\n",
              "    <tr>\n",
              "      <th>3</th>\n",
              "      <td>I have mixed feelings about my experience.</td>\n",
              "    </tr>\n",
              "    <tr>\n",
              "      <th>4</th>\n",
              "      <td>The healthcare provider was excellent. I had a...</td>\n",
              "    </tr>\n",
              "    <tr>\n",
              "      <th>...</th>\n",
              "      <td>...</td>\n",
              "    </tr>\n",
              "    <tr>\n",
              "      <th>995</th>\n",
              "      <td>My experience was terrible. I would not recomm...</td>\n",
              "    </tr>\n",
              "    <tr>\n",
              "      <th>996</th>\n",
              "      <td>The service was disappointing. I won't be comi...</td>\n",
              "    </tr>\n",
              "    <tr>\n",
              "      <th>997</th>\n",
              "      <td>The service was okay, but nothing exceptional.</td>\n",
              "    </tr>\n",
              "    <tr>\n",
              "      <th>998</th>\n",
              "      <td>I have mixed feelings about my experience.</td>\n",
              "    </tr>\n",
              "    <tr>\n",
              "      <th>999</th>\n",
              "      <td>The staff was caring and attentive. I couldn't...</td>\n",
              "    </tr>\n",
              "  </tbody>\n",
              "</table>\n",
              "<p>1000 rows × 1 columns</p>\n",
              "</div>"
            ],
            "text/plain": [
              "                                           Review_Text\n",
              "0          I have mixed feelings about my experience. \n",
              "1    The staff was caring and attentive. I couldn't...\n",
              "2          I have mixed feelings about my experience. \n",
              "3          I have mixed feelings about my experience. \n",
              "4    The healthcare provider was excellent. I had a...\n",
              "..                                                 ...\n",
              "995  My experience was terrible. I would not recomm...\n",
              "996  The service was disappointing. I won't be comi...\n",
              "997    The service was okay, but nothing exceptional. \n",
              "998        I have mixed feelings about my experience. \n",
              "999  The staff was caring and attentive. I couldn't...\n",
              "\n",
              "[1000 rows x 1 columns]"
            ]
          },
          "execution_count": 86,
          "metadata": {},
          "output_type": "execute_result"
        }
      ],
      "source": [
        "df.dropna()"
      ]
    },
    {
      "cell_type": "code",
      "execution_count": null,
      "metadata": {
        "id": "PTBpJF4bwUqi"
      },
      "outputs": [],
      "source": []
    },
    {
      "cell_type": "code",
      "execution_count": null,
      "metadata": {
        "id": "aOnd8ioGwUqi"
      },
      "outputs": [],
      "source": [
        "#df = df.drop_duplicates(subset=['Review_Text'], keep='first')"
      ]
    },
    {
      "cell_type": "code",
      "execution_count": null,
      "metadata": {
        "id": "IX6OhNerwUqi"
      },
      "outputs": [],
      "source": [
        "df[\"Review_Text\"]=df[\"Review_Text\"].astype(str)\n",
        "df[\"Review_Text\"]=df[\"Review_Text\"].str.lower()\n"
      ]
    },
    {
      "cell_type": "code",
      "execution_count": null,
      "metadata": {
        "id": "bfRlnjInwUqj",
        "outputId": "04298e56-494a-4776-eb86-814971179658"
      },
      "outputs": [
        {
          "data": {
            "text/plain": [
              "0            i have mixed feelings about my experience. \n",
              "1      the staff was caring and attentive. i couldn't...\n",
              "2            i have mixed feelings about my experience. \n",
              "3            i have mixed feelings about my experience. \n",
              "4      the healthcare provider was excellent. i had a...\n",
              "                             ...                        \n",
              "995    my experience was terrible. i would not recomm...\n",
              "996    the service was disappointing. i won't be comi...\n",
              "997      the service was okay, but nothing exceptional. \n",
              "998          i have mixed feelings about my experience. \n",
              "999    the staff was caring and attentive. i couldn't...\n",
              "Name: Review_Text, Length: 1000, dtype: object"
            ]
          },
          "execution_count": 89,
          "metadata": {},
          "output_type": "execute_result"
        }
      ],
      "source": [
        "df[\"Review_Text\"].replace(\"nan\",\"\")"
      ]
    },
    {
      "cell_type": "code",
      "execution_count": null,
      "metadata": {
        "id": "k-bhstbtwUqj",
        "outputId": "465efc6b-0a76-4d78-8993-cb399ee4de40"
      },
      "outputs": [
        {
          "data": {
            "text/plain": [
              "Index(['Review_Text'], dtype='object')"
            ]
          },
          "execution_count": 90,
          "metadata": {},
          "output_type": "execute_result"
        }
      ],
      "source": [
        "df.columns"
      ]
    },
    {
      "cell_type": "code",
      "execution_count": null,
      "metadata": {
        "id": "_Jyy8m_gwUqj",
        "outputId": "3a9e93af-1858-4b35-9ef5-fb68bccd4f35"
      },
      "outputs": [
        {
          "data": {
            "text/plain": [
              "900"
            ]
          },
          "execution_count": 91,
          "metadata": {},
          "output_type": "execute_result"
        }
      ],
      "source": [
        "df = df[df['Review_Text'] != 'nan']\n",
        "len(df)"
      ]
    },
    {
      "cell_type": "markdown",
      "source": [
        "## final dataframe"
      ],
      "metadata": {
        "id": "p8nF1JtIwhuO"
      }
    },
    {
      "cell_type": "code",
      "execution_count": null,
      "metadata": {
        "id": "2GnQZ6eRwUqk",
        "outputId": "93dd2db7-e7ef-493d-d4da-823588064731"
      },
      "outputs": [
        {
          "data": {
            "text/plain": [
              "0            i have mixed feelings about my experience. \n",
              "1      the staff was caring and attentive. i couldn't...\n",
              "2            i have mixed feelings about my experience. \n",
              "3            i have mixed feelings about my experience. \n",
              "4      the healthcare provider was excellent. i had a...\n",
              "                             ...                        \n",
              "995    my experience was terrible. i would not recomm...\n",
              "996    the service was disappointing. i won't be comi...\n",
              "997      the service was okay, but nothing exceptional. \n",
              "998          i have mixed feelings about my experience. \n",
              "999    the staff was caring and attentive. i couldn't...\n",
              "Name: Review_Text, Length: 900, dtype: object"
            ]
          },
          "execution_count": 92,
          "metadata": {},
          "output_type": "execute_result"
        }
      ],
      "source": [
        "df[\"Review_Text\"]"
      ]
    },
    {
      "cell_type": "code",
      "execution_count": null,
      "metadata": {
        "id": "oAVFCyN5wUqk",
        "outputId": "f56cbe70-6786-454c-940b-14620b674c52"
      },
      "outputs": [
        {
          "data": {
            "text/plain": [
              "0.0"
            ]
          },
          "execution_count": 93,
          "metadata": {},
          "output_type": "execute_result"
        }
      ],
      "source": [
        "from textblob import TextBlob\n",
        "def polarity(text):\n",
        "    return TextBlob(text).sentiment.polarity\n",
        "df['polarity'] = df['Review_Text'].apply(polarity)\n",
        "polarity(\"i cant say anything about this\")"
      ]
    },
    {
      "cell_type": "code",
      "execution_count": null,
      "metadata": {
        "id": "1BGVn_u7wUqk",
        "outputId": "7d34669c-7df2-4b91-8b94-6d641df82f93"
      },
      "outputs": [
        {
          "data": {
            "text/html": [
              "<div>\n",
              "<style scoped>\n",
              "    .dataframe tbody tr th:only-of-type {\n",
              "        vertical-align: middle;\n",
              "    }\n",
              "\n",
              "    .dataframe tbody tr th {\n",
              "        vertical-align: top;\n",
              "    }\n",
              "\n",
              "    .dataframe thead th {\n",
              "        text-align: right;\n",
              "    }\n",
              "</style>\n",
              "<table border=\"1\" class=\"dataframe\">\n",
              "  <thead>\n",
              "    <tr style=\"text-align: right;\">\n",
              "      <th></th>\n",
              "      <th>Review_Text</th>\n",
              "      <th>polarity</th>\n",
              "      <th>sentiment</th>\n",
              "    </tr>\n",
              "  </thead>\n",
              "  <tbody>\n",
              "    <tr>\n",
              "      <th>0</th>\n",
              "      <td>i have mixed feelings about my experience.</td>\n",
              "      <td>0.000000</td>\n",
              "      <td>0</td>\n",
              "    </tr>\n",
              "    <tr>\n",
              "      <th>1</th>\n",
              "      <td>the staff was caring and attentive. i couldn't...</td>\n",
              "      <td>0.400000</td>\n",
              "      <td>1</td>\n",
              "    </tr>\n",
              "    <tr>\n",
              "      <th>2</th>\n",
              "      <td>i have mixed feelings about my experience.</td>\n",
              "      <td>0.000000</td>\n",
              "      <td>0</td>\n",
              "    </tr>\n",
              "    <tr>\n",
              "      <th>3</th>\n",
              "      <td>i have mixed feelings about my experience.</td>\n",
              "      <td>0.000000</td>\n",
              "      <td>0</td>\n",
              "    </tr>\n",
              "    <tr>\n",
              "      <th>4</th>\n",
              "      <td>the healthcare provider was excellent. i had a...</td>\n",
              "      <td>0.900000</td>\n",
              "      <td>1</td>\n",
              "    </tr>\n",
              "    <tr>\n",
              "      <th>...</th>\n",
              "      <td>...</td>\n",
              "      <td>...</td>\n",
              "      <td>...</td>\n",
              "    </tr>\n",
              "    <tr>\n",
              "      <th>995</th>\n",
              "      <td>my experience was terrible. i would not recomm...</td>\n",
              "      <td>-1.000000</td>\n",
              "      <td>-1</td>\n",
              "    </tr>\n",
              "    <tr>\n",
              "      <th>996</th>\n",
              "      <td>the service was disappointing. i won't be comi...</td>\n",
              "      <td>-0.300000</td>\n",
              "      <td>-1</td>\n",
              "    </tr>\n",
              "    <tr>\n",
              "      <th>997</th>\n",
              "      <td>the service was okay, but nothing exceptional.</td>\n",
              "      <td>0.583333</td>\n",
              "      <td>1</td>\n",
              "    </tr>\n",
              "    <tr>\n",
              "      <th>998</th>\n",
              "      <td>i have mixed feelings about my experience.</td>\n",
              "      <td>0.000000</td>\n",
              "      <td>0</td>\n",
              "    </tr>\n",
              "    <tr>\n",
              "      <th>999</th>\n",
              "      <td>the staff was caring and attentive. i couldn't...</td>\n",
              "      <td>0.400000</td>\n",
              "      <td>1</td>\n",
              "    </tr>\n",
              "  </tbody>\n",
              "</table>\n",
              "<p>900 rows × 3 columns</p>\n",
              "</div>"
            ],
            "text/plain": [
              "                                           Review_Text  polarity  sentiment\n",
              "0          i have mixed feelings about my experience.   0.000000          0\n",
              "1    the staff was caring and attentive. i couldn't...  0.400000          1\n",
              "2          i have mixed feelings about my experience.   0.000000          0\n",
              "3          i have mixed feelings about my experience.   0.000000          0\n",
              "4    the healthcare provider was excellent. i had a...  0.900000          1\n",
              "..                                                 ...       ...        ...\n",
              "995  my experience was terrible. i would not recomm... -1.000000         -1\n",
              "996  the service was disappointing. i won't be comi... -0.300000         -1\n",
              "997    the service was okay, but nothing exceptional.   0.583333          1\n",
              "998        i have mixed feelings about my experience.   0.000000          0\n",
              "999  the staff was caring and attentive. i couldn't...  0.400000          1\n",
              "\n",
              "[900 rows x 3 columns]"
            ]
          },
          "execution_count": 94,
          "metadata": {},
          "output_type": "execute_result"
        }
      ],
      "source": [
        "def label_sentiments(x):\n",
        "    if x>0:\n",
        "        return 1\n",
        "    if x==0 :\n",
        "        return 0\n",
        "    else:\n",
        "        return -1\n",
        "\n",
        "df['sentiment'] = df['polarity'].apply(label_sentiments)\n",
        "df"
      ]
    },
    {
      "cell_type": "markdown",
      "source": [
        "importing stopwords for data cleaning"
      ],
      "metadata": {
        "id": "k328U-UrwoDy"
      }
    },
    {
      "cell_type": "code",
      "execution_count": null,
      "metadata": {
        "id": "T_o9yISBwUql"
      },
      "outputs": [],
      "source": [
        "from nltk.corpus import stopwords\n",
        "stop_words = set(stopwords.words('english'))\n",
        "words_to_remove = {'not','aren',\"aren't\",'are', 'other','ain', 'unwanted'}\n",
        "stop_words = set(word for word in stop_words if word not in words_to_remove)\n",
        "df['stopwords'] = df['Review_Text'].apply(lambda x: ' '.join([word for word in x.split() if word.lower() not in stop_words]))\n"
      ]
    },
    {
      "cell_type": "code",
      "execution_count": null,
      "metadata": {
        "id": "SyZB5ZRtwUql",
        "outputId": "4277de08-a7c9-4afd-bfad-f58ea9f4526b"
      },
      "outputs": [
        {
          "data": {
            "text/plain": [
              "'mixed feelings experience.'"
            ]
          },
          "execution_count": 96,
          "metadata": {},
          "output_type": "execute_result"
        }
      ],
      "source": [
        "df[\"stopwords\"][0]"
      ]
    },
    {
      "cell_type": "code",
      "execution_count": null,
      "metadata": {
        "id": "alfvM5X3wUql",
        "outputId": "be64a8dd-c412-4403-abeb-2e3ebac6286e"
      },
      "outputs": [
        {
          "data": {
            "text/plain": [
              "0                             mixed feelings experience\n",
              "1                        staff caring attentive happier\n",
              "2                             mixed feelings experience\n",
              "3                             mixed feelings experience\n",
              "4        healthcare provider excellent great experience\n",
              "                             ...                       \n",
              "995    experience terrible would not recommend provider\n",
              "996                   service disappointing coming back\n",
              "997                    service okay nothing exceptional\n",
              "998                           mixed feelings experience\n",
              "999                      staff caring attentive happier\n",
              "Name: lemmatised, Length: 900, dtype: object"
            ]
          },
          "execution_count": 97,
          "metadata": {},
          "output_type": "execute_result"
        }
      ],
      "source": [
        "def remove_special_symbols(text):\n",
        "    pattern = r\"[^\\w\\s]\"\n",
        "    cleaned_text = re.sub(pattern, \"\", text)\n",
        "    return cleaned_text\n",
        "\n",
        "def lemmatised(text):\n",
        "    lemmatizer = WordNetLemmatizer()\n",
        "    return lemmatizer.lemmatize(text)\n",
        "\n",
        "df[\"stopwords\"]=df[\"stopwords\"].apply(remove_special_symbols)\n",
        "df[\"lemmatised\"]=df[\"stopwords\"].apply(lemmatised)\n",
        "df[\"lemmatised\"]"
      ]
    },
    {
      "cell_type": "code",
      "execution_count": null,
      "metadata": {
        "id": "BGjrCC22wUqm"
      },
      "outputs": [],
      "source": [
        "x=df[\"lemmatised\"].values\n",
        "y=df[\"sentiment\"].values"
      ]
    },
    {
      "cell_type": "code",
      "execution_count": null,
      "metadata": {
        "id": "DTaW8Ny5wUqm",
        "outputId": "4742675b-dfe7-4a47-dee0-2bd9fa149993"
      },
      "outputs": [
        {
          "data": {
            "text/plain": [
              "array(['mixed feelings experience', 'staff caring attentive happier',\n",
              "       'mixed feelings experience', 'mixed feelings experience',\n",
              "       'healthcare provider excellent great experience',\n",
              "       'staff caring attentive happier',\n",
              "       'bad experience healthcare provider avoid possible',\n",
              "       'mixed feelings experience', 'mixed feelings experience',\n",
              "       'service okay nothing exceptional',\n",
              "       'service okay nothing exceptional',\n",
              "       'healthcare provider excellent great experience',\n",
              "       'service okay nothing exceptional',\n",
              "       'bad experience healthcare provider avoid possible',\n",
              "       'staff caring attentive happier',\n",
              "       'bad experience healthcare provider avoid possible',\n",
              "       'experience terrible would not recommend provider',\n",
              "       'bad experience healthcare provider avoid possible',\n",
              "       'service disappointing coming back',\n",
              "       'staff caring attentive happier',\n",
              "       'im satisfied service received highly recommended',\n",
              "       'service disappointing coming back',\n",
              "       'experience terrible would not recommend provider',\n",
              "       'healthcare provider excellent great experience',\n",
              "       'im satisfied service received highly recommended',\n",
              "       'mixed feelings experience', 'average experience neither good bad',\n",
              "       'mixed feelings experience',\n",
              "       'bad experience healthcare provider avoid possible',\n",
              "       'service okay nothing exceptional',\n",
              "       'bad experience healthcare provider avoid possible',\n",
              "       'average experience neither good bad',\n",
              "       'service okay nothing exceptional',\n",
              "       'staff caring attentive happier', 'mixed feelings experience',\n",
              "       'healthcare provider excellent great experience',\n",
              "       'mixed feelings experience', 'mixed feelings experience',\n",
              "       'healthcare provider excellent great experience',\n",
              "       'service okay nothing exceptional',\n",
              "       'healthcare provider excellent great experience',\n",
              "       'service disappointing coming back',\n",
              "       'bad experience healthcare provider avoid possible',\n",
              "       'bad experience healthcare provider avoid possible',\n",
              "       'healthcare provider excellent great experience',\n",
              "       'bad experience healthcare provider avoid possible',\n",
              "       'healthcare provider excellent great experience',\n",
              "       'service disappointing coming back',\n",
              "       'average experience neither good bad',\n",
              "       'average experience neither good bad',\n",
              "       'healthcare provider excellent great experience',\n",
              "       'average experience neither good bad', 'mixed feelings experience',\n",
              "       'service disappointing coming back',\n",
              "       'im satisfied service received highly recommended',\n",
              "       'service disappointing coming back',\n",
              "       'service disappointing coming back',\n",
              "       'bad experience healthcare provider avoid possible',\n",
              "       'service disappointing coming back',\n",
              "       'experience terrible would not recommend provider',\n",
              "       'experience terrible would not recommend provider',\n",
              "       'bad experience healthcare provider avoid possible',\n",
              "       'im satisfied service received highly recommended',\n",
              "       'service okay nothing exceptional',\n",
              "       'service disappointing coming back',\n",
              "       'experience terrible would not recommend provider',\n",
              "       'bad experience healthcare provider avoid possible',\n",
              "       'service disappointing coming back',\n",
              "       'service disappointing coming back',\n",
              "       'average experience neither good bad',\n",
              "       'service okay nothing exceptional',\n",
              "       'experience terrible would not recommend provider',\n",
              "       'experience terrible would not recommend provider',\n",
              "       'im satisfied service received highly recommended',\n",
              "       'im satisfied service received highly recommended',\n",
              "       'service disappointing coming back',\n",
              "       'average experience neither good bad',\n",
              "       'healthcare provider excellent great experience',\n",
              "       'experience terrible would not recommend provider',\n",
              "       'staff caring attentive happier',\n",
              "       'im satisfied service received highly recommended',\n",
              "       'im satisfied service received highly recommended',\n",
              "       'service okay nothing exceptional',\n",
              "       'im satisfied service received highly recommended',\n",
              "       'average experience neither good bad',\n",
              "       'im satisfied service received highly recommended',\n",
              "       'service okay nothing exceptional', 'mixed feelings experience',\n",
              "       'average experience neither good bad', 'mixed feelings experience',\n",
              "       'staff caring attentive happier', 'mixed feelings experience',\n",
              "       'healthcare provider excellent great experience',\n",
              "       'experience terrible would not recommend provider',\n",
              "       'average experience neither good bad',\n",
              "       'experience terrible would not recommend provider',\n",
              "       'staff caring attentive happier', 'mixed feelings experience',\n",
              "       'bad experience healthcare provider avoid possible',\n",
              "       'healthcare provider excellent great experience',\n",
              "       'mixed feelings experience', 'mixed feelings experience',\n",
              "       'service disappointing coming back',\n",
              "       'im satisfied service received highly recommended',\n",
              "       'service okay nothing exceptional',\n",
              "       'service disappointing coming back', 'mixed feelings experience',\n",
              "       'mixed feelings experience',\n",
              "       'im satisfied service received highly recommended',\n",
              "       'mixed feelings experience', 'average experience neither good bad',\n",
              "       'experience terrible would not recommend provider',\n",
              "       'service okay nothing exceptional',\n",
              "       'staff caring attentive happier', 'staff caring attentive happier',\n",
              "       'experience terrible would not recommend provider',\n",
              "       'service okay nothing exceptional',\n",
              "       'average experience neither good bad',\n",
              "       'experience terrible would not recommend provider',\n",
              "       'average experience neither good bad',\n",
              "       'average experience neither good bad',\n",
              "       'staff caring attentive happier', 'mixed feelings experience',\n",
              "       'average experience neither good bad',\n",
              "       'bad experience healthcare provider avoid possible',\n",
              "       'im satisfied service received highly recommended',\n",
              "       'service okay nothing exceptional',\n",
              "       'average experience neither good bad', 'mixed feelings experience',\n",
              "       'im satisfied service received highly recommended',\n",
              "       'healthcare provider excellent great experience',\n",
              "       'bad experience healthcare provider avoid possible',\n",
              "       'im satisfied service received highly recommended',\n",
              "       'average experience neither good bad', 'mixed feelings experience',\n",
              "       'staff caring attentive happier',\n",
              "       'average experience neither good bad', 'mixed feelings experience',\n",
              "       'healthcare provider excellent great experience',\n",
              "       'healthcare provider excellent great experience',\n",
              "       'mixed feelings experience', 'average experience neither good bad',\n",
              "       'bad experience healthcare provider avoid possible',\n",
              "       'service disappointing coming back',\n",
              "       'staff caring attentive happier',\n",
              "       'im satisfied service received highly recommended',\n",
              "       'staff caring attentive happier',\n",
              "       'service disappointing coming back',\n",
              "       'experience terrible would not recommend provider',\n",
              "       'service disappointing coming back',\n",
              "       'service okay nothing exceptional',\n",
              "       'bad experience healthcare provider avoid possible',\n",
              "       'service okay nothing exceptional',\n",
              "       'im satisfied service received highly recommended',\n",
              "       'mixed feelings experience', 'service disappointing coming back',\n",
              "       'im satisfied service received highly recommended',\n",
              "       'im satisfied service received highly recommended',\n",
              "       'staff caring attentive happier',\n",
              "       'service okay nothing exceptional',\n",
              "       'experience terrible would not recommend provider',\n",
              "       'im satisfied service received highly recommended',\n",
              "       'im satisfied service received highly recommended',\n",
              "       'healthcare provider excellent great experience',\n",
              "       'average experience neither good bad', 'mixed feelings experience',\n",
              "       'service disappointing coming back',\n",
              "       'average experience neither good bad',\n",
              "       'healthcare provider excellent great experience',\n",
              "       'service disappointing coming back',\n",
              "       'im satisfied service received highly recommended',\n",
              "       'healthcare provider excellent great experience',\n",
              "       'mixed feelings experience',\n",
              "       'bad experience healthcare provider avoid possible',\n",
              "       'service okay nothing exceptional',\n",
              "       'service disappointing coming back',\n",
              "       'healthcare provider excellent great experience',\n",
              "       'im satisfied service received highly recommended',\n",
              "       'experience terrible would not recommend provider',\n",
              "       'im satisfied service received highly recommended',\n",
              "       'service disappointing coming back',\n",
              "       'average experience neither good bad',\n",
              "       'bad experience healthcare provider avoid possible',\n",
              "       'average experience neither good bad',\n",
              "       'healthcare provider excellent great experience',\n",
              "       'im satisfied service received highly recommended',\n",
              "       'im satisfied service received highly recommended',\n",
              "       'im satisfied service received highly recommended',\n",
              "       'mixed feelings experience',\n",
              "       'healthcare provider excellent great experience',\n",
              "       'service disappointing coming back',\n",
              "       'bad experience healthcare provider avoid possible',\n",
              "       'mixed feelings experience', 'staff caring attentive happier',\n",
              "       'staff caring attentive happier', 'mixed feelings experience',\n",
              "       'experience terrible would not recommend provider',\n",
              "       'healthcare provider excellent great experience',\n",
              "       'experience terrible would not recommend provider',\n",
              "       'average experience neither good bad',\n",
              "       'average experience neither good bad', 'mixed feelings experience',\n",
              "       'staff caring attentive happier',\n",
              "       'average experience neither good bad',\n",
              "       'staff caring attentive happier',\n",
              "       'bad experience healthcare provider avoid possible',\n",
              "       'bad experience healthcare provider avoid possible',\n",
              "       'service disappointing coming back', 'mixed feelings experience',\n",
              "       'im satisfied service received highly recommended',\n",
              "       'staff caring attentive happier',\n",
              "       'average experience neither good bad',\n",
              "       'service disappointing coming back',\n",
              "       'staff caring attentive happier', 'mixed feelings experience',\n",
              "       'mixed feelings experience', 'service okay nothing exceptional',\n",
              "       'experience terrible would not recommend provider',\n",
              "       'mixed feelings experience', 'average experience neither good bad',\n",
              "       'average experience neither good bad',\n",
              "       'healthcare provider excellent great experience',\n",
              "       'healthcare provider excellent great experience',\n",
              "       'mixed feelings experience', 'service disappointing coming back',\n",
              "       'im satisfied service received highly recommended',\n",
              "       'service okay nothing exceptional',\n",
              "       'im satisfied service received highly recommended',\n",
              "       'healthcare provider excellent great experience',\n",
              "       'experience terrible would not recommend provider',\n",
              "       'mixed feelings experience', 'average experience neither good bad',\n",
              "       'experience terrible would not recommend provider',\n",
              "       'experience terrible would not recommend provider',\n",
              "       'service okay nothing exceptional',\n",
              "       'service okay nothing exceptional',\n",
              "       'service disappointing coming back',\n",
              "       'healthcare provider excellent great experience',\n",
              "       'service disappointing coming back',\n",
              "       'healthcare provider excellent great experience',\n",
              "       'experience terrible would not recommend provider',\n",
              "       'im satisfied service received highly recommended',\n",
              "       'staff caring attentive happier', 'mixed feelings experience',\n",
              "       'mixed feelings experience', 'staff caring attentive happier',\n",
              "       'im satisfied service received highly recommended',\n",
              "       'service okay nothing exceptional',\n",
              "       'average experience neither good bad',\n",
              "       'experience terrible would not recommend provider',\n",
              "       'service okay nothing exceptional',\n",
              "       'staff caring attentive happier',\n",
              "       'bad experience healthcare provider avoid possible',\n",
              "       'experience terrible would not recommend provider',\n",
              "       'service okay nothing exceptional',\n",
              "       'service disappointing coming back',\n",
              "       'staff caring attentive happier',\n",
              "       'service okay nothing exceptional',\n",
              "       'im satisfied service received highly recommended',\n",
              "       'im satisfied service received highly recommended',\n",
              "       'experience terrible would not recommend provider',\n",
              "       'bad experience healthcare provider avoid possible',\n",
              "       'bad experience healthcare provider avoid possible',\n",
              "       'service disappointing coming back',\n",
              "       'healthcare provider excellent great experience',\n",
              "       'healthcare provider excellent great experience',\n",
              "       'staff caring attentive happier', 'staff caring attentive happier',\n",
              "       'service disappointing coming back',\n",
              "       'im satisfied service received highly recommended',\n",
              "       'service okay nothing exceptional', 'mixed feelings experience',\n",
              "       'im satisfied service received highly recommended',\n",
              "       'im satisfied service received highly recommended',\n",
              "       'average experience neither good bad', 'mixed feelings experience',\n",
              "       'service disappointing coming back',\n",
              "       'service okay nothing exceptional',\n",
              "       'service disappointing coming back',\n",
              "       'experience terrible would not recommend provider',\n",
              "       'experience terrible would not recommend provider',\n",
              "       'experience terrible would not recommend provider',\n",
              "       'service disappointing coming back',\n",
              "       'staff caring attentive happier', 'mixed feelings experience',\n",
              "       'service disappointing coming back', 'mixed feelings experience',\n",
              "       'average experience neither good bad',\n",
              "       'bad experience healthcare provider avoid possible',\n",
              "       'healthcare provider excellent great experience',\n",
              "       'service disappointing coming back',\n",
              "       'healthcare provider excellent great experience',\n",
              "       'mixed feelings experience', 'staff caring attentive happier',\n",
              "       'healthcare provider excellent great experience',\n",
              "       'staff caring attentive happier',\n",
              "       'service okay nothing exceptional', 'mixed feelings experience',\n",
              "       'im satisfied service received highly recommended',\n",
              "       'im satisfied service received highly recommended',\n",
              "       'service disappointing coming back',\n",
              "       'healthcare provider excellent great experience',\n",
              "       'bad experience healthcare provider avoid possible',\n",
              "       'healthcare provider excellent great experience',\n",
              "       'bad experience healthcare provider avoid possible',\n",
              "       'mixed feelings experience', 'staff caring attentive happier',\n",
              "       'staff caring attentive happier',\n",
              "       'im satisfied service received highly recommended',\n",
              "       'service disappointing coming back', 'mixed feelings experience',\n",
              "       'average experience neither good bad',\n",
              "       'staff caring attentive happier', 'staff caring attentive happier',\n",
              "       'healthcare provider excellent great experience',\n",
              "       'service okay nothing exceptional',\n",
              "       'im satisfied service received highly recommended',\n",
              "       'average experience neither good bad',\n",
              "       'service disappointing coming back',\n",
              "       'healthcare provider excellent great experience',\n",
              "       'service disappointing coming back',\n",
              "       'service okay nothing exceptional',\n",
              "       'service disappointing coming back', 'mixed feelings experience',\n",
              "       'service disappointing coming back',\n",
              "       'service disappointing coming back',\n",
              "       'experience terrible would not recommend provider',\n",
              "       'service okay nothing exceptional',\n",
              "       'average experience neither good bad',\n",
              "       'service okay nothing exceptional',\n",
              "       'service disappointing coming back',\n",
              "       'bad experience healthcare provider avoid possible',\n",
              "       'im satisfied service received highly recommended',\n",
              "       'healthcare provider excellent great experience',\n",
              "       'im satisfied service received highly recommended',\n",
              "       'service disappointing coming back',\n",
              "       'service okay nothing exceptional',\n",
              "       'staff caring attentive happier',\n",
              "       'experience terrible would not recommend provider',\n",
              "       'service okay nothing exceptional',\n",
              "       'service disappointing coming back',\n",
              "       'average experience neither good bad',\n",
              "       'healthcare provider excellent great experience',\n",
              "       'experience terrible would not recommend provider',\n",
              "       'average experience neither good bad',\n",
              "       'staff caring attentive happier',\n",
              "       'healthcare provider excellent great experience',\n",
              "       'im satisfied service received highly recommended',\n",
              "       'bad experience healthcare provider avoid possible',\n",
              "       'service disappointing coming back',\n",
              "       'service okay nothing exceptional',\n",
              "       'service okay nothing exceptional',\n",
              "       'service okay nothing exceptional',\n",
              "       'experience terrible would not recommend provider',\n",
              "       'experience terrible would not recommend provider',\n",
              "       'service okay nothing exceptional', 'mixed feelings experience',\n",
              "       'experience terrible would not recommend provider',\n",
              "       'mixed feelings experience',\n",
              "       'im satisfied service received highly recommended',\n",
              "       'bad experience healthcare provider avoid possible',\n",
              "       'average experience neither good bad',\n",
              "       'bad experience healthcare provider avoid possible',\n",
              "       'healthcare provider excellent great experience',\n",
              "       'bad experience healthcare provider avoid possible',\n",
              "       'bad experience healthcare provider avoid possible',\n",
              "       'experience terrible would not recommend provider',\n",
              "       'experience terrible would not recommend provider',\n",
              "       'healthcare provider excellent great experience',\n",
              "       'bad experience healthcare provider avoid possible',\n",
              "       'bad experience healthcare provider avoid possible',\n",
              "       'mixed feelings experience',\n",
              "       'experience terrible would not recommend provider',\n",
              "       'service okay nothing exceptional',\n",
              "       'im satisfied service received highly recommended',\n",
              "       'healthcare provider excellent great experience',\n",
              "       'staff caring attentive happier',\n",
              "       'healthcare provider excellent great experience',\n",
              "       'mixed feelings experience',\n",
              "       'bad experience healthcare provider avoid possible',\n",
              "       'staff caring attentive happier',\n",
              "       'bad experience healthcare provider avoid possible',\n",
              "       'average experience neither good bad',\n",
              "       'average experience neither good bad',\n",
              "       'bad experience healthcare provider avoid possible',\n",
              "       'experience terrible would not recommend provider',\n",
              "       'experience terrible would not recommend provider',\n",
              "       'service okay nothing exceptional',\n",
              "       'healthcare provider excellent great experience',\n",
              "       'service okay nothing exceptional',\n",
              "       'service okay nothing exceptional',\n",
              "       'bad experience healthcare provider avoid possible',\n",
              "       'service okay nothing exceptional',\n",
              "       'bad experience healthcare provider avoid possible',\n",
              "       'staff caring attentive happier',\n",
              "       'experience terrible would not recommend provider',\n",
              "       'staff caring attentive happier',\n",
              "       'experience terrible would not recommend provider',\n",
              "       'mixed feelings experience', 'service okay nothing exceptional',\n",
              "       'healthcare provider excellent great experience',\n",
              "       'healthcare provider excellent great experience',\n",
              "       'staff caring attentive happier',\n",
              "       'service disappointing coming back',\n",
              "       'experience terrible would not recommend provider',\n",
              "       'staff caring attentive happier', 'mixed feelings experience',\n",
              "       'service disappointing coming back',\n",
              "       'bad experience healthcare provider avoid possible',\n",
              "       'bad experience healthcare provider avoid possible',\n",
              "       'staff caring attentive happier',\n",
              "       'im satisfied service received highly recommended',\n",
              "       'im satisfied service received highly recommended',\n",
              "       'healthcare provider excellent great experience',\n",
              "       'service okay nothing exceptional',\n",
              "       'staff caring attentive happier',\n",
              "       'service disappointing coming back',\n",
              "       'staff caring attentive happier', 'mixed feelings experience',\n",
              "       'bad experience healthcare provider avoid possible',\n",
              "       'mixed feelings experience',\n",
              "       'healthcare provider excellent great experience',\n",
              "       'service disappointing coming back',\n",
              "       'im satisfied service received highly recommended',\n",
              "       'healthcare provider excellent great experience',\n",
              "       'bad experience healthcare provider avoid possible',\n",
              "       'im satisfied service received highly recommended',\n",
              "       'average experience neither good bad',\n",
              "       'healthcare provider excellent great experience',\n",
              "       'experience terrible would not recommend provider',\n",
              "       'experience terrible would not recommend provider',\n",
              "       'experience terrible would not recommend provider',\n",
              "       'healthcare provider excellent great experience',\n",
              "       'experience terrible would not recommend provider',\n",
              "       'service disappointing coming back',\n",
              "       'im satisfied service received highly recommended',\n",
              "       'average experience neither good bad',\n",
              "       'staff caring attentive happier',\n",
              "       'service disappointing coming back',\n",
              "       'service disappointing coming back',\n",
              "       'im satisfied service received highly recommended',\n",
              "       'average experience neither good bad',\n",
              "       'service disappointing coming back',\n",
              "       'bad experience healthcare provider avoid possible',\n",
              "       'bad experience healthcare provider avoid possible',\n",
              "       'im satisfied service received highly recommended',\n",
              "       'service disappointing coming back',\n",
              "       'average experience neither good bad',\n",
              "       'service disappointing coming back',\n",
              "       'service disappointing coming back',\n",
              "       'average experience neither good bad',\n",
              "       'experience terrible would not recommend provider',\n",
              "       'healthcare provider excellent great experience',\n",
              "       'im satisfied service received highly recommended',\n",
              "       'healthcare provider excellent great experience',\n",
              "       'mixed feelings experience',\n",
              "       'experience terrible would not recommend provider',\n",
              "       'staff caring attentive happier',\n",
              "       'service okay nothing exceptional',\n",
              "       'service disappointing coming back', 'mixed feelings experience',\n",
              "       'healthcare provider excellent great experience',\n",
              "       'healthcare provider excellent great experience',\n",
              "       'staff caring attentive happier',\n",
              "       'average experience neither good bad',\n",
              "       'im satisfied service received highly recommended',\n",
              "       'average experience neither good bad',\n",
              "       'im satisfied service received highly recommended',\n",
              "       'healthcare provider excellent great experience',\n",
              "       'service disappointing coming back', 'mixed feelings experience',\n",
              "       'im satisfied service received highly recommended',\n",
              "       'healthcare provider excellent great experience',\n",
              "       'average experience neither good bad',\n",
              "       'bad experience healthcare provider avoid possible',\n",
              "       'service disappointing coming back',\n",
              "       'im satisfied service received highly recommended',\n",
              "       'mixed feelings experience',\n",
              "       'experience terrible would not recommend provider',\n",
              "       'mixed feelings experience', 'service okay nothing exceptional',\n",
              "       'healthcare provider excellent great experience',\n",
              "       'bad experience healthcare provider avoid possible',\n",
              "       'im satisfied service received highly recommended',\n",
              "       'service disappointing coming back',\n",
              "       'bad experience healthcare provider avoid possible',\n",
              "       'service disappointing coming back',\n",
              "       'experience terrible would not recommend provider',\n",
              "       'service disappointing coming back',\n",
              "       'average experience neither good bad',\n",
              "       'staff caring attentive happier',\n",
              "       'service okay nothing exceptional',\n",
              "       'service disappointing coming back',\n",
              "       'staff caring attentive happier',\n",
              "       'experience terrible would not recommend provider',\n",
              "       'im satisfied service received highly recommended',\n",
              "       'im satisfied service received highly recommended',\n",
              "       'staff caring attentive happier', 'staff caring attentive happier',\n",
              "       'im satisfied service received highly recommended',\n",
              "       'staff caring attentive happier',\n",
              "       'bad experience healthcare provider avoid possible',\n",
              "       'staff caring attentive happier',\n",
              "       'healthcare provider excellent great experience',\n",
              "       'staff caring attentive happier', 'mixed feelings experience',\n",
              "       'experience terrible would not recommend provider',\n",
              "       'im satisfied service received highly recommended',\n",
              "       'mixed feelings experience', 'average experience neither good bad',\n",
              "       'im satisfied service received highly recommended',\n",
              "       'staff caring attentive happier', 'mixed feelings experience',\n",
              "       'staff caring attentive happier', 'mixed feelings experience',\n",
              "       'healthcare provider excellent great experience',\n",
              "       'average experience neither good bad',\n",
              "       'im satisfied service received highly recommended',\n",
              "       'healthcare provider excellent great experience',\n",
              "       'im satisfied service received highly recommended',\n",
              "       'experience terrible would not recommend provider',\n",
              "       'healthcare provider excellent great experience',\n",
              "       'bad experience healthcare provider avoid possible',\n",
              "       'im satisfied service received highly recommended',\n",
              "       'service okay nothing exceptional', 'mixed feelings experience',\n",
              "       'staff caring attentive happier',\n",
              "       'im satisfied service received highly recommended',\n",
              "       'im satisfied service received highly recommended',\n",
              "       'service okay nothing exceptional',\n",
              "       'staff caring attentive happier', 'mixed feelings experience',\n",
              "       'experience terrible would not recommend provider',\n",
              "       'average experience neither good bad',\n",
              "       'service disappointing coming back', 'mixed feelings experience',\n",
              "       'staff caring attentive happier',\n",
              "       'im satisfied service received highly recommended',\n",
              "       'average experience neither good bad',\n",
              "       'im satisfied service received highly recommended',\n",
              "       'average experience neither good bad',\n",
              "       'healthcare provider excellent great experience',\n",
              "       'im satisfied service received highly recommended',\n",
              "       'average experience neither good bad',\n",
              "       'healthcare provider excellent great experience',\n",
              "       'im satisfied service received highly recommended',\n",
              "       'bad experience healthcare provider avoid possible',\n",
              "       'experience terrible would not recommend provider',\n",
              "       'mixed feelings experience', 'service disappointing coming back',\n",
              "       'average experience neither good bad',\n",
              "       'experience terrible would not recommend provider',\n",
              "       'im satisfied service received highly recommended',\n",
              "       'average experience neither good bad', 'mixed feelings experience',\n",
              "       'healthcare provider excellent great experience',\n",
              "       'service okay nothing exceptional',\n",
              "       'service okay nothing exceptional',\n",
              "       'im satisfied service received highly recommended',\n",
              "       'experience terrible would not recommend provider',\n",
              "       'experience terrible would not recommend provider',\n",
              "       'healthcare provider excellent great experience',\n",
              "       'healthcare provider excellent great experience',\n",
              "       'bad experience healthcare provider avoid possible',\n",
              "       'mixed feelings experience',\n",
              "       'experience terrible would not recommend provider',\n",
              "       'staff caring attentive happier',\n",
              "       'experience terrible would not recommend provider',\n",
              "       'healthcare provider excellent great experience',\n",
              "       'service disappointing coming back',\n",
              "       'service okay nothing exceptional',\n",
              "       'experience terrible would not recommend provider',\n",
              "       'healthcare provider excellent great experience',\n",
              "       'staff caring attentive happier',\n",
              "       'im satisfied service received highly recommended',\n",
              "       'service disappointing coming back', 'mixed feelings experience',\n",
              "       'im satisfied service received highly recommended',\n",
              "       'staff caring attentive happier',\n",
              "       'bad experience healthcare provider avoid possible',\n",
              "       'service okay nothing exceptional',\n",
              "       'average experience neither good bad',\n",
              "       'staff caring attentive happier', 'staff caring attentive happier',\n",
              "       'experience terrible would not recommend provider',\n",
              "       'mixed feelings experience',\n",
              "       'healthcare provider excellent great experience',\n",
              "       'service disappointing coming back',\n",
              "       'average experience neither good bad',\n",
              "       'bad experience healthcare provider avoid possible',\n",
              "       'service disappointing coming back',\n",
              "       'service okay nothing exceptional',\n",
              "       'average experience neither good bad',\n",
              "       'bad experience healthcare provider avoid possible',\n",
              "       'average experience neither good bad',\n",
              "       'healthcare provider excellent great experience',\n",
              "       'im satisfied service received highly recommended',\n",
              "       'service disappointing coming back',\n",
              "       'bad experience healthcare provider avoid possible',\n",
              "       'healthcare provider excellent great experience',\n",
              "       'service okay nothing exceptional',\n",
              "       'staff caring attentive happier', 'mixed feelings experience',\n",
              "       'healthcare provider excellent great experience',\n",
              "       'average experience neither good bad',\n",
              "       'staff caring attentive happier',\n",
              "       'bad experience healthcare provider avoid possible',\n",
              "       'healthcare provider excellent great experience',\n",
              "       'average experience neither good bad',\n",
              "       'staff caring attentive happier', 'staff caring attentive happier',\n",
              "       'bad experience healthcare provider avoid possible',\n",
              "       'im satisfied service received highly recommended',\n",
              "       'bad experience healthcare provider avoid possible',\n",
              "       'experience terrible would not recommend provider',\n",
              "       'staff caring attentive happier', 'staff caring attentive happier',\n",
              "       'im satisfied service received highly recommended',\n",
              "       'healthcare provider excellent great experience',\n",
              "       'service disappointing coming back',\n",
              "       'healthcare provider excellent great experience',\n",
              "       'average experience neither good bad',\n",
              "       'im satisfied service received highly recommended',\n",
              "       'service okay nothing exceptional',\n",
              "       'staff caring attentive happier',\n",
              "       'experience terrible would not recommend provider',\n",
              "       'mixed feelings experience', 'staff caring attentive happier',\n",
              "       'healthcare provider excellent great experience',\n",
              "       'experience terrible would not recommend provider',\n",
              "       'mixed feelings experience', 'average experience neither good bad',\n",
              "       'im satisfied service received highly recommended',\n",
              "       'im satisfied service received highly recommended',\n",
              "       'experience terrible would not recommend provider',\n",
              "       'service disappointing coming back',\n",
              "       'average experience neither good bad',\n",
              "       'average experience neither good bad',\n",
              "       'staff caring attentive happier', 'mixed feelings experience',\n",
              "       'bad experience healthcare provider avoid possible',\n",
              "       'service disappointing coming back',\n",
              "       'im satisfied service received highly recommended',\n",
              "       'service disappointing coming back',\n",
              "       'bad experience healthcare provider avoid possible',\n",
              "       'bad experience healthcare provider avoid possible',\n",
              "       'im satisfied service received highly recommended',\n",
              "       'average experience neither good bad',\n",
              "       'experience terrible would not recommend provider',\n",
              "       'healthcare provider excellent great experience',\n",
              "       'im satisfied service received highly recommended',\n",
              "       'healthcare provider excellent great experience',\n",
              "       'im satisfied service received highly recommended',\n",
              "       'healthcare provider excellent great experience',\n",
              "       'staff caring attentive happier',\n",
              "       'im satisfied service received highly recommended',\n",
              "       'service disappointing coming back',\n",
              "       'service okay nothing exceptional',\n",
              "       'staff caring attentive happier',\n",
              "       'experience terrible would not recommend provider',\n",
              "       'average experience neither good bad',\n",
              "       'im satisfied service received highly recommended',\n",
              "       'mixed feelings experience',\n",
              "       'healthcare provider excellent great experience',\n",
              "       'service disappointing coming back',\n",
              "       'service disappointing coming back',\n",
              "       'experience terrible would not recommend provider',\n",
              "       'experience terrible would not recommend provider',\n",
              "       'mixed feelings experience',\n",
              "       'healthcare provider excellent great experience',\n",
              "       'healthcare provider excellent great experience',\n",
              "       'average experience neither good bad',\n",
              "       'im satisfied service received highly recommended',\n",
              "       'staff caring attentive happier',\n",
              "       'bad experience healthcare provider avoid possible',\n",
              "       'mixed feelings experience',\n",
              "       'healthcare provider excellent great experience',\n",
              "       'mixed feelings experience',\n",
              "       'healthcare provider excellent great experience',\n",
              "       'average experience neither good bad',\n",
              "       'staff caring attentive happier',\n",
              "       'service disappointing coming back',\n",
              "       'im satisfied service received highly recommended',\n",
              "       'staff caring attentive happier',\n",
              "       'healthcare provider excellent great experience',\n",
              "       'bad experience healthcare provider avoid possible',\n",
              "       'staff caring attentive happier', 'mixed feelings experience',\n",
              "       'service okay nothing exceptional',\n",
              "       'im satisfied service received highly recommended',\n",
              "       'im satisfied service received highly recommended',\n",
              "       'average experience neither good bad',\n",
              "       'experience terrible would not recommend provider',\n",
              "       'staff caring attentive happier',\n",
              "       'im satisfied service received highly recommended',\n",
              "       'average experience neither good bad',\n",
              "       'im satisfied service received highly recommended',\n",
              "       'service disappointing coming back',\n",
              "       'average experience neither good bad',\n",
              "       'average experience neither good bad',\n",
              "       'staff caring attentive happier',\n",
              "       'im satisfied service received highly recommended',\n",
              "       'service disappointing coming back',\n",
              "       'bad experience healthcare provider avoid possible',\n",
              "       'mixed feelings experience',\n",
              "       'im satisfied service received highly recommended',\n",
              "       'staff caring attentive happier',\n",
              "       'bad experience healthcare provider avoid possible',\n",
              "       'healthcare provider excellent great experience',\n",
              "       'bad experience healthcare provider avoid possible',\n",
              "       'staff caring attentive happier',\n",
              "       'im satisfied service received highly recommended',\n",
              "       'healthcare provider excellent great experience',\n",
              "       'experience terrible would not recommend provider',\n",
              "       'im satisfied service received highly recommended',\n",
              "       'im satisfied service received highly recommended',\n",
              "       'service disappointing coming back',\n",
              "       'average experience neither good bad',\n",
              "       'service okay nothing exceptional',\n",
              "       'experience terrible would not recommend provider',\n",
              "       'bad experience healthcare provider avoid possible',\n",
              "       'bad experience healthcare provider avoid possible',\n",
              "       'experience terrible would not recommend provider',\n",
              "       'bad experience healthcare provider avoid possible',\n",
              "       'service okay nothing exceptional', 'mixed feelings experience',\n",
              "       'bad experience healthcare provider avoid possible',\n",
              "       'im satisfied service received highly recommended',\n",
              "       'bad experience healthcare provider avoid possible',\n",
              "       'staff caring attentive happier',\n",
              "       'experience terrible would not recommend provider',\n",
              "       'service disappointing coming back', 'mixed feelings experience',\n",
              "       'healthcare provider excellent great experience',\n",
              "       'staff caring attentive happier',\n",
              "       'average experience neither good bad', 'mixed feelings experience',\n",
              "       'average experience neither good bad',\n",
              "       'service okay nothing exceptional',\n",
              "       'staff caring attentive happier', 'staff caring attentive happier',\n",
              "       'service disappointing coming back',\n",
              "       'service disappointing coming back',\n",
              "       'service okay nothing exceptional',\n",
              "       'bad experience healthcare provider avoid possible',\n",
              "       'bad experience healthcare provider avoid possible',\n",
              "       'experience terrible would not recommend provider',\n",
              "       'experience terrible would not recommend provider',\n",
              "       'service disappointing coming back',\n",
              "       'experience terrible would not recommend provider',\n",
              "       'average experience neither good bad', 'mixed feelings experience',\n",
              "       'mixed feelings experience', 'mixed feelings experience',\n",
              "       'experience terrible would not recommend provider',\n",
              "       'healthcare provider excellent great experience',\n",
              "       'service disappointing coming back',\n",
              "       'im satisfied service received highly recommended',\n",
              "       'mixed feelings experience',\n",
              "       'bad experience healthcare provider avoid possible',\n",
              "       'service okay nothing exceptional',\n",
              "       'service disappointing coming back', 'mixed feelings experience',\n",
              "       'staff caring attentive happier',\n",
              "       'healthcare provider excellent great experience',\n",
              "       'experience terrible would not recommend provider',\n",
              "       'healthcare provider excellent great experience',\n",
              "       'service disappointing coming back',\n",
              "       'healthcare provider excellent great experience',\n",
              "       'bad experience healthcare provider avoid possible',\n",
              "       'service disappointing coming back',\n",
              "       'healthcare provider excellent great experience',\n",
              "       'experience terrible would not recommend provider',\n",
              "       'staff caring attentive happier',\n",
              "       'service disappointing coming back',\n",
              "       'average experience neither good bad',\n",
              "       'service okay nothing exceptional',\n",
              "       'service okay nothing exceptional', 'mixed feelings experience',\n",
              "       'service okay nothing exceptional',\n",
              "       'healthcare provider excellent great experience',\n",
              "       'average experience neither good bad',\n",
              "       'average experience neither good bad',\n",
              "       'service okay nothing exceptional',\n",
              "       'service disappointing coming back',\n",
              "       'staff caring attentive happier',\n",
              "       'service okay nothing exceptional',\n",
              "       'average experience neither good bad',\n",
              "       'healthcare provider excellent great experience',\n",
              "       'experience terrible would not recommend provider',\n",
              "       'staff caring attentive happier',\n",
              "       'service disappointing coming back',\n",
              "       'service okay nothing exceptional',\n",
              "       'service okay nothing exceptional',\n",
              "       'staff caring attentive happier',\n",
              "       'experience terrible would not recommend provider',\n",
              "       'experience terrible would not recommend provider',\n",
              "       'im satisfied service received highly recommended',\n",
              "       'im satisfied service received highly recommended',\n",
              "       'service disappointing coming back',\n",
              "       'im satisfied service received highly recommended',\n",
              "       'im satisfied service received highly recommended',\n",
              "       'service disappointing coming back',\n",
              "       'experience terrible would not recommend provider',\n",
              "       'bad experience healthcare provider avoid possible',\n",
              "       'healthcare provider excellent great experience',\n",
              "       'bad experience healthcare provider avoid possible',\n",
              "       'experience terrible would not recommend provider',\n",
              "       'staff caring attentive happier',\n",
              "       'service okay nothing exceptional',\n",
              "       'im satisfied service received highly recommended',\n",
              "       'experience terrible would not recommend provider',\n",
              "       'healthcare provider excellent great experience',\n",
              "       'service okay nothing exceptional',\n",
              "       'staff caring attentive happier',\n",
              "       'average experience neither good bad',\n",
              "       'experience terrible would not recommend provider',\n",
              "       'service okay nothing exceptional',\n",
              "       'service okay nothing exceptional',\n",
              "       'im satisfied service received highly recommended',\n",
              "       'im satisfied service received highly recommended',\n",
              "       'staff caring attentive happier',\n",
              "       'im satisfied service received highly recommended',\n",
              "       'mixed feelings experience',\n",
              "       'healthcare provider excellent great experience',\n",
              "       'average experience neither good bad',\n",
              "       'average experience neither good bad',\n",
              "       'service okay nothing exceptional',\n",
              "       'experience terrible would not recommend provider',\n",
              "       'service disappointing coming back',\n",
              "       'bad experience healthcare provider avoid possible',\n",
              "       'mixed feelings experience',\n",
              "       'experience terrible would not recommend provider',\n",
              "       'experience terrible would not recommend provider',\n",
              "       'healthcare provider excellent great experience',\n",
              "       'bad experience healthcare provider avoid possible',\n",
              "       'service disappointing coming back',\n",
              "       'service okay nothing exceptional',\n",
              "       'service okay nothing exceptional',\n",
              "       'average experience neither good bad',\n",
              "       'service okay nothing exceptional',\n",
              "       'service okay nothing exceptional',\n",
              "       'average experience neither good bad',\n",
              "       'bad experience healthcare provider avoid possible',\n",
              "       'average experience neither good bad',\n",
              "       'average experience neither good bad',\n",
              "       'healthcare provider excellent great experience',\n",
              "       'experience terrible would not recommend provider',\n",
              "       'bad experience healthcare provider avoid possible',\n",
              "       'experience terrible would not recommend provider',\n",
              "       'average experience neither good bad',\n",
              "       'service okay nothing exceptional',\n",
              "       'service okay nothing exceptional',\n",
              "       'staff caring attentive happier',\n",
              "       'im satisfied service received highly recommended',\n",
              "       'service disappointing coming back',\n",
              "       'service okay nothing exceptional',\n",
              "       'im satisfied service received highly recommended',\n",
              "       'im satisfied service received highly recommended',\n",
              "       'service okay nothing exceptional',\n",
              "       'bad experience healthcare provider avoid possible',\n",
              "       'bad experience healthcare provider avoid possible',\n",
              "       'staff caring attentive happier',\n",
              "       'healthcare provider excellent great experience',\n",
              "       'staff caring attentive happier',\n",
              "       'healthcare provider excellent great experience',\n",
              "       'service disappointing coming back', 'mixed feelings experience',\n",
              "       'im satisfied service received highly recommended',\n",
              "       'bad experience healthcare provider avoid possible',\n",
              "       'average experience neither good bad', 'mixed feelings experience',\n",
              "       'service disappointing coming back',\n",
              "       'experience terrible would not recommend provider',\n",
              "       'service okay nothing exceptional',\n",
              "       'im satisfied service received highly recommended',\n",
              "       'service okay nothing exceptional',\n",
              "       'bad experience healthcare provider avoid possible',\n",
              "       'staff caring attentive happier', 'staff caring attentive happier',\n",
              "       'service disappointing coming back',\n",
              "       'service disappointing coming back',\n",
              "       'service okay nothing exceptional',\n",
              "       'service okay nothing exceptional',\n",
              "       'im satisfied service received highly recommended',\n",
              "       'bad experience healthcare provider avoid possible',\n",
              "       'staff caring attentive happier', 'staff caring attentive happier',\n",
              "       'bad experience healthcare provider avoid possible',\n",
              "       'im satisfied service received highly recommended',\n",
              "       'service disappointing coming back',\n",
              "       'service okay nothing exceptional',\n",
              "       'service disappointing coming back',\n",
              "       'average experience neither good bad',\n",
              "       'experience terrible would not recommend provider',\n",
              "       'experience terrible would not recommend provider',\n",
              "       'service disappointing coming back',\n",
              "       'service okay nothing exceptional', 'mixed feelings experience',\n",
              "       'staff caring attentive happier'], dtype=object)"
            ]
          },
          "execution_count": 99,
          "metadata": {},
          "output_type": "execute_result"
        }
      ],
      "source": [
        "x"
      ]
    },
    {
      "cell_type": "markdown",
      "source": [
        "##splitting the train test data"
      ],
      "metadata": {
        "id": "QUOiZxL-wzv8"
      }
    },
    {
      "cell_type": "code",
      "execution_count": null,
      "metadata": {
        "id": "RTvqwRygwUqm"
      },
      "outputs": [],
      "source": [
        "x_train,x_test,y_train,y_test=train_test_split(x,y,test_size=0.2,random_state=23)"
      ]
    },
    {
      "cell_type": "code",
      "execution_count": null,
      "metadata": {
        "id": "eqd26BC6wUqm",
        "outputId": "7b4fe182-e1c8-4f32-b875-7d6d796b2a4a"
      },
      "outputs": [
        {
          "data": {
            "text/plain": [
              "array(['service disappointing coming back',\n",
              "       'average experience neither good bad', 'mixed feelings experience',\n",
              "       'service disappointing coming back',\n",
              "       'healthcare provider excellent great experience',\n",
              "       'healthcare provider excellent great experience',\n",
              "       'experience terrible would not recommend provider',\n",
              "       'healthcare provider excellent great experience',\n",
              "       'im satisfied service received highly recommended',\n",
              "       'staff caring attentive happier',\n",
              "       'healthcare provider excellent great experience',\n",
              "       'healthcare provider excellent great experience',\n",
              "       'service okay nothing exceptional',\n",
              "       'experience terrible would not recommend provider',\n",
              "       'staff caring attentive happier',\n",
              "       'average experience neither good bad',\n",
              "       'service okay nothing exceptional',\n",
              "       'bad experience healthcare provider avoid possible',\n",
              "       'staff caring attentive happier',\n",
              "       'healthcare provider excellent great experience',\n",
              "       'bad experience healthcare provider avoid possible',\n",
              "       'healthcare provider excellent great experience',\n",
              "       'staff caring attentive happier', 'staff caring attentive happier',\n",
              "       'mixed feelings experience', 'mixed feelings experience',\n",
              "       'experience terrible would not recommend provider',\n",
              "       'experience terrible would not recommend provider',\n",
              "       'mixed feelings experience',\n",
              "       'im satisfied service received highly recommended',\n",
              "       'mixed feelings experience',\n",
              "       'experience terrible would not recommend provider',\n",
              "       'average experience neither good bad',\n",
              "       'bad experience healthcare provider avoid possible',\n",
              "       'service okay nothing exceptional',\n",
              "       'service okay nothing exceptional',\n",
              "       'service disappointing coming back',\n",
              "       'experience terrible would not recommend provider',\n",
              "       'experience terrible would not recommend provider',\n",
              "       'experience terrible would not recommend provider',\n",
              "       'average experience neither good bad',\n",
              "       'service disappointing coming back',\n",
              "       'staff caring attentive happier', 'mixed feelings experience',\n",
              "       'service disappointing coming back',\n",
              "       'im satisfied service received highly recommended',\n",
              "       'staff caring attentive happier', 'mixed feelings experience',\n",
              "       'average experience neither good bad',\n",
              "       'healthcare provider excellent great experience',\n",
              "       'service disappointing coming back', 'mixed feelings experience',\n",
              "       'average experience neither good bad',\n",
              "       'experience terrible would not recommend provider',\n",
              "       'experience terrible would not recommend provider',\n",
              "       'healthcare provider excellent great experience',\n",
              "       'staff caring attentive happier',\n",
              "       'bad experience healthcare provider avoid possible',\n",
              "       'im satisfied service received highly recommended',\n",
              "       'healthcare provider excellent great experience',\n",
              "       'im satisfied service received highly recommended',\n",
              "       'staff caring attentive happier',\n",
              "       'service disappointing coming back',\n",
              "       'experience terrible would not recommend provider',\n",
              "       'im satisfied service received highly recommended',\n",
              "       'experience terrible would not recommend provider',\n",
              "       'experience terrible would not recommend provider',\n",
              "       'experience terrible would not recommend provider',\n",
              "       'bad experience healthcare provider avoid possible',\n",
              "       'experience terrible would not recommend provider',\n",
              "       'healthcare provider excellent great experience',\n",
              "       'service okay nothing exceptional',\n",
              "       'staff caring attentive happier',\n",
              "       'service disappointing coming back',\n",
              "       'healthcare provider excellent great experience',\n",
              "       'mixed feelings experience',\n",
              "       'healthcare provider excellent great experience',\n",
              "       'experience terrible would not recommend provider',\n",
              "       'bad experience healthcare provider avoid possible',\n",
              "       'im satisfied service received highly recommended',\n",
              "       'healthcare provider excellent great experience',\n",
              "       'staff caring attentive happier',\n",
              "       'average experience neither good bad',\n",
              "       'average experience neither good bad',\n",
              "       'service disappointing coming back',\n",
              "       'service okay nothing exceptional',\n",
              "       'im satisfied service received highly recommended',\n",
              "       'mixed feelings experience', 'service okay nothing exceptional',\n",
              "       'staff caring attentive happier',\n",
              "       'service disappointing coming back',\n",
              "       'staff caring attentive happier',\n",
              "       'im satisfied service received highly recommended',\n",
              "       'bad experience healthcare provider avoid possible',\n",
              "       'mixed feelings experience',\n",
              "       'im satisfied service received highly recommended',\n",
              "       'staff caring attentive happier',\n",
              "       'service disappointing coming back',\n",
              "       'healthcare provider excellent great experience',\n",
              "       'im satisfied service received highly recommended',\n",
              "       'average experience neither good bad',\n",
              "       'im satisfied service received highly recommended',\n",
              "       'mixed feelings experience',\n",
              "       'experience terrible would not recommend provider',\n",
              "       'mixed feelings experience', 'mixed feelings experience',\n",
              "       'bad experience healthcare provider avoid possible',\n",
              "       'service disappointing coming back', 'mixed feelings experience',\n",
              "       'staff caring attentive happier',\n",
              "       'average experience neither good bad',\n",
              "       'service okay nothing exceptional',\n",
              "       'experience terrible would not recommend provider',\n",
              "       'service okay nothing exceptional',\n",
              "       'staff caring attentive happier',\n",
              "       'experience terrible would not recommend provider',\n",
              "       'im satisfied service received highly recommended',\n",
              "       'service okay nothing exceptional',\n",
              "       'average experience neither good bad',\n",
              "       'average experience neither good bad',\n",
              "       'service disappointing coming back', 'mixed feelings experience',\n",
              "       'bad experience healthcare provider avoid possible',\n",
              "       'experience terrible would not recommend provider',\n",
              "       'service okay nothing exceptional',\n",
              "       'experience terrible would not recommend provider',\n",
              "       'service okay nothing exceptional',\n",
              "       'service okay nothing exceptional',\n",
              "       'healthcare provider excellent great experience',\n",
              "       'average experience neither good bad',\n",
              "       'im satisfied service received highly recommended',\n",
              "       'service okay nothing exceptional', 'mixed feelings experience',\n",
              "       'healthcare provider excellent great experience',\n",
              "       'experience terrible would not recommend provider',\n",
              "       'experience terrible would not recommend provider',\n",
              "       'average experience neither good bad',\n",
              "       'staff caring attentive happier',\n",
              "       'service disappointing coming back',\n",
              "       'average experience neither good bad',\n",
              "       'experience terrible would not recommend provider',\n",
              "       'service disappointing coming back', 'mixed feelings experience',\n",
              "       'mixed feelings experience', 'staff caring attentive happier',\n",
              "       'average experience neither good bad',\n",
              "       'experience terrible would not recommend provider',\n",
              "       'experience terrible would not recommend provider',\n",
              "       'im satisfied service received highly recommended',\n",
              "       'service disappointing coming back',\n",
              "       'staff caring attentive happier', 'staff caring attentive happier',\n",
              "       'mixed feelings experience', 'service okay nothing exceptional',\n",
              "       'service disappointing coming back',\n",
              "       'average experience neither good bad',\n",
              "       'im satisfied service received highly recommended',\n",
              "       'healthcare provider excellent great experience',\n",
              "       'staff caring attentive happier', 'staff caring attentive happier',\n",
              "       'bad experience healthcare provider avoid possible',\n",
              "       'healthcare provider excellent great experience',\n",
              "       'experience terrible would not recommend provider',\n",
              "       'healthcare provider excellent great experience',\n",
              "       'service disappointing coming back', 'mixed feelings experience',\n",
              "       'experience terrible would not recommend provider',\n",
              "       'service okay nothing exceptional',\n",
              "       'im satisfied service received highly recommended',\n",
              "       'im satisfied service received highly recommended',\n",
              "       'im satisfied service received highly recommended',\n",
              "       'experience terrible would not recommend provider',\n",
              "       'service okay nothing exceptional',\n",
              "       'staff caring attentive happier', 'mixed feelings experience',\n",
              "       'experience terrible would not recommend provider',\n",
              "       'average experience neither good bad',\n",
              "       'healthcare provider excellent great experience',\n",
              "       'im satisfied service received highly recommended',\n",
              "       'im satisfied service received highly recommended'], dtype=object)"
            ]
          },
          "execution_count": 101,
          "metadata": {},
          "output_type": "execute_result"
        }
      ],
      "source": [
        "x_test"
      ]
    },
    {
      "cell_type": "markdown",
      "metadata": {
        "id": "wYkXP894wUqn"
      },
      "source": [
        "converting reviwes to features with tfidf vectorizer"
      ]
    },
    {
      "cell_type": "code",
      "execution_count": null,
      "metadata": {
        "id": "rpC2q2pzwUqn",
        "outputId": "31865ecc-fd57-4267-94cc-c3ec369df2a4"
      },
      "outputs": [
        {
          "name": "stdout",
          "output_type": "stream",
          "text": [
            "['service disappointing coming back' 'average experience neither good bad'\n",
            " 'mixed feelings experience' 'service disappointing coming back'\n",
            " 'healthcare provider excellent great experience'\n",
            " 'healthcare provider excellent great experience'\n",
            " 'experience terrible would not recommend provider'\n",
            " 'healthcare provider excellent great experience'\n",
            " 'im satisfied service received highly recommended'\n",
            " 'staff caring attentive happier'\n",
            " 'healthcare provider excellent great experience'\n",
            " 'healthcare provider excellent great experience'\n",
            " 'service okay nothing exceptional'\n",
            " 'experience terrible would not recommend provider'\n",
            " 'staff caring attentive happier' 'average experience neither good bad'\n",
            " 'service okay nothing exceptional'\n",
            " 'bad experience healthcare provider avoid possible'\n",
            " 'staff caring attentive happier'\n",
            " 'healthcare provider excellent great experience'\n",
            " 'bad experience healthcare provider avoid possible'\n",
            " 'healthcare provider excellent great experience'\n",
            " 'staff caring attentive happier' 'staff caring attentive happier'\n",
            " 'mixed feelings experience' 'mixed feelings experience'\n",
            " 'experience terrible would not recommend provider'\n",
            " 'experience terrible would not recommend provider'\n",
            " 'mixed feelings experience'\n",
            " 'im satisfied service received highly recommended'\n",
            " 'mixed feelings experience'\n",
            " 'experience terrible would not recommend provider'\n",
            " 'average experience neither good bad'\n",
            " 'bad experience healthcare provider avoid possible'\n",
            " 'service okay nothing exceptional' 'service okay nothing exceptional'\n",
            " 'service disappointing coming back'\n",
            " 'experience terrible would not recommend provider'\n",
            " 'experience terrible would not recommend provider'\n",
            " 'experience terrible would not recommend provider'\n",
            " 'average experience neither good bad' 'service disappointing coming back'\n",
            " 'staff caring attentive happier' 'mixed feelings experience'\n",
            " 'service disappointing coming back'\n",
            " 'im satisfied service received highly recommended'\n",
            " 'staff caring attentive happier' 'mixed feelings experience'\n",
            " 'average experience neither good bad'\n",
            " 'healthcare provider excellent great experience'\n",
            " 'service disappointing coming back' 'mixed feelings experience'\n",
            " 'average experience neither good bad'\n",
            " 'experience terrible would not recommend provider'\n",
            " 'experience terrible would not recommend provider'\n",
            " 'healthcare provider excellent great experience'\n",
            " 'staff caring attentive happier'\n",
            " 'bad experience healthcare provider avoid possible'\n",
            " 'im satisfied service received highly recommended'\n",
            " 'healthcare provider excellent great experience'\n",
            " 'im satisfied service received highly recommended'\n",
            " 'staff caring attentive happier' 'service disappointing coming back'\n",
            " 'experience terrible would not recommend provider'\n",
            " 'im satisfied service received highly recommended'\n",
            " 'experience terrible would not recommend provider'\n",
            " 'experience terrible would not recommend provider'\n",
            " 'experience terrible would not recommend provider'\n",
            " 'bad experience healthcare provider avoid possible'\n",
            " 'experience terrible would not recommend provider'\n",
            " 'healthcare provider excellent great experience'\n",
            " 'service okay nothing exceptional' 'staff caring attentive happier'\n",
            " 'service disappointing coming back'\n",
            " 'healthcare provider excellent great experience'\n",
            " 'mixed feelings experience'\n",
            " 'healthcare provider excellent great experience'\n",
            " 'experience terrible would not recommend provider'\n",
            " 'bad experience healthcare provider avoid possible'\n",
            " 'im satisfied service received highly recommended'\n",
            " 'healthcare provider excellent great experience'\n",
            " 'staff caring attentive happier' 'average experience neither good bad'\n",
            " 'average experience neither good bad' 'service disappointing coming back'\n",
            " 'service okay nothing exceptional'\n",
            " 'im satisfied service received highly recommended'\n",
            " 'mixed feelings experience' 'service okay nothing exceptional'\n",
            " 'staff caring attentive happier' 'service disappointing coming back'\n",
            " 'staff caring attentive happier'\n",
            " 'im satisfied service received highly recommended'\n",
            " 'bad experience healthcare provider avoid possible'\n",
            " 'mixed feelings experience'\n",
            " 'im satisfied service received highly recommended'\n",
            " 'staff caring attentive happier' 'service disappointing coming back'\n",
            " 'healthcare provider excellent great experience'\n",
            " 'im satisfied service received highly recommended'\n",
            " 'average experience neither good bad'\n",
            " 'im satisfied service received highly recommended'\n",
            " 'mixed feelings experience'\n",
            " 'experience terrible would not recommend provider'\n",
            " 'mixed feelings experience' 'mixed feelings experience'\n",
            " 'bad experience healthcare provider avoid possible'\n",
            " 'service disappointing coming back' 'mixed feelings experience'\n",
            " 'staff caring attentive happier' 'average experience neither good bad'\n",
            " 'service okay nothing exceptional'\n",
            " 'experience terrible would not recommend provider'\n",
            " 'service okay nothing exceptional' 'staff caring attentive happier'\n",
            " 'experience terrible would not recommend provider'\n",
            " 'im satisfied service received highly recommended'\n",
            " 'service okay nothing exceptional' 'average experience neither good bad'\n",
            " 'average experience neither good bad' 'service disappointing coming back'\n",
            " 'mixed feelings experience'\n",
            " 'bad experience healthcare provider avoid possible'\n",
            " 'experience terrible would not recommend provider'\n",
            " 'service okay nothing exceptional'\n",
            " 'experience terrible would not recommend provider'\n",
            " 'service okay nothing exceptional' 'service okay nothing exceptional'\n",
            " 'healthcare provider excellent great experience'\n",
            " 'average experience neither good bad'\n",
            " 'im satisfied service received highly recommended'\n",
            " 'service okay nothing exceptional' 'mixed feelings experience'\n",
            " 'healthcare provider excellent great experience'\n",
            " 'experience terrible would not recommend provider'\n",
            " 'experience terrible would not recommend provider'\n",
            " 'average experience neither good bad' 'staff caring attentive happier'\n",
            " 'service disappointing coming back' 'average experience neither good bad'\n",
            " 'experience terrible would not recommend provider'\n",
            " 'service disappointing coming back' 'mixed feelings experience'\n",
            " 'mixed feelings experience' 'staff caring attentive happier'\n",
            " 'average experience neither good bad'\n",
            " 'experience terrible would not recommend provider'\n",
            " 'experience terrible would not recommend provider'\n",
            " 'im satisfied service received highly recommended'\n",
            " 'service disappointing coming back' 'staff caring attentive happier'\n",
            " 'staff caring attentive happier' 'mixed feelings experience'\n",
            " 'service okay nothing exceptional' 'service disappointing coming back'\n",
            " 'average experience neither good bad'\n",
            " 'im satisfied service received highly recommended'\n",
            " 'healthcare provider excellent great experience'\n",
            " 'staff caring attentive happier' 'staff caring attentive happier'\n",
            " 'bad experience healthcare provider avoid possible'\n",
            " 'healthcare provider excellent great experience'\n",
            " 'experience terrible would not recommend provider'\n",
            " 'healthcare provider excellent great experience'\n",
            " 'service disappointing coming back' 'mixed feelings experience'\n",
            " 'experience terrible would not recommend provider'\n",
            " 'service okay nothing exceptional'\n",
            " 'im satisfied service received highly recommended'\n",
            " 'im satisfied service received highly recommended'\n",
            " 'im satisfied service received highly recommended'\n",
            " 'experience terrible would not recommend provider'\n",
            " 'service okay nothing exceptional' 'staff caring attentive happier'\n",
            " 'mixed feelings experience'\n",
            " 'experience terrible would not recommend provider'\n",
            " 'average experience neither good bad'\n",
            " 'healthcare provider excellent great experience'\n",
            " 'im satisfied service received highly recommended'\n",
            " 'im satisfied service received highly recommended']\n"
          ]
        }
      ],
      "source": [
        "print(x_test)"
      ]
    },
    {
      "cell_type": "markdown",
      "source": [
        "## TRANSFORMING AND FITTING THE REVIEWS DATA"
      ],
      "metadata": {
        "id": "XP4xPilUw-Yh"
      }
    },
    {
      "cell_type": "code",
      "execution_count": null,
      "metadata": {
        "id": "Twuug2a4wUqn"
      },
      "outputs": [],
      "source": [
        "vector=TfidfVectorizer()\n",
        "x_train=vector.fit_transform(x_train)\n",
        "x_test=vector.transform(x_test)"
      ]
    },
    {
      "cell_type": "code",
      "execution_count": null,
      "metadata": {
        "id": "1aGvKSm-wUqo",
        "outputId": "221424e3-68d9-4a3a-8214-8a0c0cc4bba1"
      },
      "outputs": [
        {
          "name": "stdout",
          "output_type": "stream",
          "text": [
            "  (0, 29)\t0.35349533017162793\n",
            "  (0, 7)\t0.5400743935011335\n",
            "  (0, 6)\t0.5400743935011335\n",
            "  (0, 3)\t0.5400743935011335\n",
            "  (1, 19)\t0.5087589385565627\n",
            "  (1, 12)\t0.5087589385565627\n",
            "  (1, 10)\t0.25702032173981787\n",
            "  (1, 4)\t0.396779008428066\n",
            "  (1, 1)\t0.5087589385565627\n",
            "  (2, 18)\t0.665895013279731\n",
            "  (2, 11)\t0.665895013279731\n",
            "  (2, 10)\t0.33640401688798793\n",
            "  (3, 29)\t0.35349533017162793\n",
            "  (3, 7)\t0.5400743935011335\n",
            "  (3, 6)\t0.5400743935011335\n",
            "  (3, 3)\t0.5400743935011335\n",
            "  (4, 24)\t0.3704929618443607\n",
            "  (4, 15)\t0.4300345949071015\n",
            "  (4, 13)\t0.5467404393747917\n",
            "  (4, 10)\t0.28276314524951407\n",
            "  (4, 8)\t0.5467404393747917\n",
            "  (5, 24)\t0.3704929618443607\n",
            "  (5, 15)\t0.4300345949071015\n",
            "  (5, 13)\t0.5467404393747917\n",
            "  (5, 10)\t0.28276314524951407\n",
            "  :\t:\n",
            "  (175, 24)\t0.29583289661596723\n",
            "  (175, 20)\t0.46408657266202047\n",
            "  (175, 10)\t0.22578199569293242\n",
            "  (176, 19)\t0.5087589385565627\n",
            "  (176, 12)\t0.5087589385565627\n",
            "  (176, 10)\t0.25702032173981787\n",
            "  (176, 4)\t0.396779008428066\n",
            "  (176, 1)\t0.5087589385565627\n",
            "  (177, 24)\t0.3704929618443607\n",
            "  (177, 15)\t0.4300345949071015\n",
            "  (177, 13)\t0.5467404393747917\n",
            "  (177, 10)\t0.28276314524951407\n",
            "  (177, 8)\t0.5467404393747917\n",
            "  (178, 29)\t0.2883113901881974\n",
            "  (178, 28)\t0.42822343286834486\n",
            "  (178, 27)\t0.42822343286834486\n",
            "  (178, 25)\t0.42822343286834486\n",
            "  (178, 17)\t0.42822343286834486\n",
            "  (178, 16)\t0.42822343286834486\n",
            "  (179, 29)\t0.2883113901881974\n",
            "  (179, 28)\t0.42822343286834486\n",
            "  (179, 27)\t0.42822343286834486\n",
            "  (179, 25)\t0.42822343286834486\n",
            "  (179, 17)\t0.42822343286834486\n",
            "  (179, 16)\t0.42822343286834486\n"
          ]
        }
      ],
      "source": [
        "print(x_test)"
      ]
    },
    {
      "cell_type": "code",
      "execution_count": null,
      "metadata": {
        "id": "GjziFKPNwUqo",
        "outputId": "8bc7f634-cd52-4161-cad8-954a4e6203cc"
      },
      "outputs": [
        {
          "data": {
            "text/plain": [
              "1.0"
            ]
          },
          "execution_count": 105,
          "metadata": {},
          "output_type": "execute_result"
        }
      ],
      "source": [
        "model=LogisticRegression(max_iter=100)\n",
        "model.fit(x_train,y_train)\n",
        "xpred=model.predict(x_train)\n",
        "acscorelog=r2_score(y_train,xpred)\n",
        "acscorelog\n"
      ]
    },
    {
      "cell_type": "code",
      "execution_count": null,
      "metadata": {
        "id": "OlMZ4TiVwUqo",
        "outputId": "2bc095d2-def8-4a43-82ee-60506817c428"
      },
      "outputs": [
        {
          "data": {
            "text/plain": [
              "1.0"
            ]
          },
          "execution_count": 106,
          "metadata": {},
          "output_type": "execute_result"
        }
      ],
      "source": [
        "xtestpred=model.predict(x_test)\n",
        "testacs=r2_score(y_test,xtestpred)\n",
        "testacs"
      ]
    },
    {
      "cell_type": "code",
      "execution_count": null,
      "metadata": {
        "id": "KijgUjfZwUqp",
        "outputId": "46d46967-bb22-42e8-961e-f95849d4fdc6"
      },
      "outputs": [
        {
          "data": {
            "text/plain": [
              "<180x33 sparse matrix of type '<class 'numpy.float64'>'\n",
              "\twith 859 stored elements in Compressed Sparse Row format>"
            ]
          },
          "execution_count": 107,
          "metadata": {},
          "output_type": "execute_result"
        }
      ],
      "source": [
        "x_test"
      ]
    },
    {
      "cell_type": "code",
      "execution_count": null,
      "metadata": {
        "id": "KaGjLB5vwUqp",
        "outputId": "4b30ba88-1d8b-4746-e134-8ada5435df6f"
      },
      "outputs": [
        {
          "data": {
            "text/plain": [
              "0.9899673038914134"
            ]
          },
          "execution_count": 108,
          "metadata": {},
          "output_type": "execute_result"
        }
      ],
      "source": [
        "svr=SVR(kernel='rbf')\n",
        "svr.fit(x_train,y_train)\n",
        "\n",
        "ypr=svr.predict(x_test)\n",
        "acscoresvr=r2_score(y_test,ypr)\n",
        "acscoresvr"
      ]
    },
    {
      "cell_type": "code",
      "execution_count": null,
      "metadata": {
        "id": "KCbIJcpuwUqp",
        "outputId": "d41e947c-b879-4398-af13-bd32c7831d28"
      },
      "outputs": [
        {
          "data": {
            "text/plain": [
              "1.0"
            ]
          },
          "execution_count": 109,
          "metadata": {},
          "output_type": "execute_result"
        }
      ],
      "source": [
        "knn=KNeighborsRegressor(n_neighbors=5)\n",
        "knn.fit(x_train,y_train)\n",
        "ypredkn=knn.predict(x_test)\n",
        "knac=r2_score(y_test,ypredkn)\n",
        "knac"
      ]
    },
    {
      "cell_type": "code",
      "execution_count": null,
      "metadata": {
        "id": "97h-tUjhwUqq",
        "outputId": "067b1221-d351-4679-e117-504f436a3487"
      },
      "outputs": [
        {
          "data": {
            "text/plain": [
              "0.8896391096335258"
            ]
          },
          "execution_count": 110,
          "metadata": {},
          "output_type": "execute_result"
        }
      ],
      "source": [
        "dtr=DecisionTreeRegressor(max_depth=3)\n",
        "dtr.fit(x_train,y_train)\n",
        "yprdtr=dtr.predict(x_test)\n",
        "acsdtr=r2_score(y_test,yprdtr)\n",
        "acsdtr\n"
      ]
    },
    {
      "cell_type": "code",
      "execution_count": null,
      "metadata": {
        "id": "4v-agY7kwUqq",
        "outputId": "2b376fdc-808f-4b90-ab61-1f55da886707"
      },
      "outputs": [
        {
          "data": {
            "image/png": "[encoded data removed]",
            "text/plain": [
              "<Figure size 640x480 with 1 Axes>"
            ]
          },
          "metadata": {},
          "output_type": "display_data"
        }
      ],
      "source": [
        "a = ['logistic regression', 'support vector regression', 'decision tree regressor',\"k nearest neibours regression\"]\n",
        "b = [acscorelog,acscoresvr,acsdtr,knac]\n",
        "plt.bar(a, b)\n",
        "plt.ylim(0.8,max(b)+0.1)\n",
        "plt.title(\"R2 SCORE OF REGRESSION MODELS\")\n",
        "plt.xlabel(\"model types\")\n",
        "plt.xticks( rotation=90)\n",
        "plt.ylabel(\"r2 score\")\n",
        "plt.show()\n"
      ]
    },
    {
      "cell_type": "code",
      "execution_count": null,
      "metadata": {
        "id": "bqb8damUwUqq",
        "outputId": "0d5873a9-535e-4036-f315-46d9b481f03b"
      },
      "outputs": [
        {
          "name": "stdout",
          "output_type": "stream",
          "text": [
            "  (0, 3)\t0.5400743935011335\n",
            "  (0, 6)\t0.5400743935011335\n",
            "  (0, 7)\t0.5400743935011335\n",
            "  (0, 29)\t0.35349533017162793\n",
            "  (1, 1)\t0.5087589385565627\n",
            "  (1, 4)\t0.396779008428066\n",
            "  (1, 10)\t0.25702032173981787\n",
            "  (1, 12)\t0.5087589385565627\n",
            "  (1, 19)\t0.5087589385565627\n",
            "  (2, 10)\t0.33640401688798793\n",
            "  (2, 11)\t0.665895013279731\n",
            "  (2, 18)\t0.665895013279731\n",
            "  (3, 3)\t0.5400743935011335\n",
            "  (3, 6)\t0.5400743935011335\n",
            "  (3, 7)\t0.5400743935011335\n",
            "  (3, 29)\t0.35349533017162793\n",
            "  (4, 8)\t0.5467404393747917\n",
            "  (4, 10)\t0.28276314524951407\n",
            "  (4, 13)\t0.5467404393747917\n",
            "  (4, 15)\t0.4300345949071015\n",
            "  (4, 24)\t0.3704929618443607\n",
            "  (5, 8)\t0.5467404393747917\n",
            "  (5, 10)\t0.28276314524951407\n",
            "  (5, 13)\t0.5467404393747917\n",
            "  (5, 15)\t0.4300345949071015\n",
            "  :\t:\n",
            "  (175, 26)\t0.46408657266202047\n",
            "  (175, 31)\t0.46408657266202047\n",
            "  (175, 32)\t0.46408657266202047\n",
            "  (176, 1)\t0.5087589385565627\n",
            "  (176, 4)\t0.396779008428066\n",
            "  (176, 10)\t0.25702032173981787\n",
            "  (176, 12)\t0.5087589385565627\n",
            "  (176, 19)\t0.5087589385565627\n",
            "  (177, 8)\t0.5467404393747917\n",
            "  (177, 10)\t0.28276314524951407\n",
            "  (177, 13)\t0.5467404393747917\n",
            "  (177, 15)\t0.4300345949071015\n",
            "  (177, 24)\t0.3704929618443607\n",
            "  (178, 16)\t0.42822343286834486\n",
            "  (178, 17)\t0.42822343286834486\n",
            "  (178, 25)\t0.42822343286834486\n",
            "  (178, 27)\t0.42822343286834486\n",
            "  (178, 28)\t0.42822343286834486\n",
            "  (178, 29)\t0.2883113901881974\n",
            "  (179, 16)\t0.42822343286834486\n",
            "  (179, 17)\t0.42822343286834486\n",
            "  (179, 25)\t0.42822343286834486\n",
            "  (179, 27)\t0.42822343286834486\n",
            "  (179, 28)\t0.42822343286834486\n",
            "  (179, 29)\t0.2883113901881974\n"
          ]
        }
      ],
      "source": [
        "print(x_test)"
      ]
    },
    {
      "cell_type": "markdown",
      "metadata": {
        "id": "XX38-23hwUqr"
      },
      "source": [
        "testing a sample"
      ]
    },
    {
      "cell_type": "code",
      "execution_count": null,
      "metadata": {
        "id": "jSlV08kawUqr",
        "outputId": "b9ea770f-0943-4f77-94ce-debfa6b92ed9"
      },
      "outputs": [
        {
          "name": "stdout",
          "output_type": "stream",
          "text": [
            "-1\n",
            "[-1]\n"
          ]
        }
      ],
      "source": [
        "\n",
        "x_n=x_test[1]\n",
        "print(y_test[1])\n",
        "pred=model.predict(x_n)\n",
        "print(pred)"
      ]
    },
    {
      "cell_type": "code",
      "execution_count": null,
      "metadata": {
        "id": "3f0OBHGQwUqr",
        "outputId": "ba8006b0-ca80-4fe8-8c86-4b10bc3aae7d"
      },
      "outputs": [
        {
          "name": "stdout",
          "output_type": "stream",
          "text": [
            "TfidfVectorizer()\n"
          ]
        }
      ],
      "source": [
        "print(vector)\n",
        "pickle.dump(vector, open('D:/Final_project/features.pkl', 'wb'))"
      ]
    },
    {
      "cell_type": "code",
      "execution_count": null,
      "metadata": {
        "id": "XEUZUbUBwUqr",
        "outputId": "bf83d03c-fa12-4c7b-e372-4f40f35025d9"
      },
      "outputs": [
        {
          "name": "stdout",
          "output_type": "stream",
          "text": [
            "[1]\n"
          ]
        }
      ],
      "source": [
        "\n",
        "sent = [ \"average experience nothing exceptional\" ]\n",
        "sent=vector.transform(sent)\n",
        "pred3=model.predict(sent)\n",
        "print(pred3)"
      ]
    },
    {
      "cell_type": "markdown",
      "source": [
        "**SAVING THE MODEL**"
      ],
      "metadata": {
        "id": "cl91zEpjxQam"
      }
    },
    {
      "cell_type": "code",
      "execution_count": null,
      "metadata": {
        "id": "Pbf9Gq18wUq5"
      },
      "outputs": [],
      "source": [
        "\n",
        "filename=\"D:/Final_project/healthcare_model.pkl\"\n",
        "pickle.dump(model,open(filename,'wb'))\n",
        "\n",
        "filename2=\"D:/Final_project/vectorizer.pkl\"\n",
        "pickle.dump(vector,open(filename2,'wb'))\n"
      ]
    },
    {
      "cell_type": "code",
      "execution_count": null,
      "metadata": {
        "id": "quZLIqaMwUq6"
      },
      "outputs": [],
      "source": []
    }
  ],
  "metadata": {
    "kernelspec": {
      "display_name": "Python 3",
      "language": "python",
      "name": "python3"
    },
    "language_info": {
      "codemirror_mode": {
        "name": "ipython",
        "version": 3
      },
      "file_extension": ".py",
      "mimetype": "text/x-python",
      "name": "python",
      "nbconvert_exporter": "python",
      "pygments_lexer": "ipython3",
      "version": "3.11.9"
    },
    "colab": {
      "provenance": [],
      "include_colab_link": true
    }
  },
  "nbformat": 4,
  "nbformat_minor": 0
}